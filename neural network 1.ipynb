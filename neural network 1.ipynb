{
 "cells": [
  {
   "cell_type": "markdown",
   "id": "c72e2a9b",
   "metadata": {},
   "source": [
    "## A simple neural network making a prediction"
   ]
  },
  {
   "cell_type": "code",
   "execution_count": null,
   "id": "45147174",
   "metadata": {},
   "outputs": [],
   "source": [
    "weight = 0.1\n",
    "\n",
    "def neural_network(input, weight):\n",
    "    prediction = input * weight\n",
    "    return prediction\n",
    "\n",
    "number_of_toes = [8.5, 9.5, 10, 9]\n",
    "input = number_of_toes[0]  # Using the first value from the list\n",
    "\n",
    "pred = neural_network(input, weight)\n",
    "print(pred)\n"
   ]
  },
  {
   "cell_type": "code",
   "execution_count": null,
   "id": "decad3d9",
   "metadata": {},
   "outputs": [],
   "source": []
  },
  {
   "cell_type": "markdown",
   "id": "c24983c1",
   "metadata": {},
   "source": [
    "## Making a prediction with multiple inputs\n",
    "\n",
    " toes = current average number of toes per player <br>\n",
    " wlrec = current games won (percent)<br>\n",
    " nfans = fan count (in millions).<br>\n",
    " <br>\n",
    "\n",
    "\n",
    "\n",
    "  "
   ]
  },
  {
   "cell_type": "code",
   "execution_count": 33,
   "id": "f18bd8b3",
   "metadata": {},
   "outputs": [
    {
     "data": {
      "text/plain": [
       "'0.980'"
      ]
     },
     "execution_count": 33,
     "metadata": {},
     "output_type": "execute_result"
    }
   ],
   "source": [
    "def w_sum(a, b):\n",
    "    assert len(a) == len(b)\n",
    "    output = 0\n",
    "    for i in range(len(a)):\n",
    "        output += (a[i] * b[i])\n",
    "    return output\n",
    "\n",
    "weights = [0.1, 0.2, 0]\n",
    "\n",
    "def neural_network(input, weights):\n",
    "    pred = w_sum(input, weights)\n",
    "    return pred\n",
    "\n",
    "toes = [8.5, 9.5, 9.9, 9.0]\n",
    "wlrec = [0.65, 0.8, 0.8, 0.9]\n",
    "nfans = [1.2, 1.3, 0.5, 1.0]\n",
    "input = [toes[0], wlrec[0], nfans[0]]\n",
    "\n",
    "pred = neural_network(input, weights)\n",
    "# print(pred)  \n",
    "\"{:.3f}\".format(pred)"
   ]
  },
  {
   "cell_type": "code",
   "execution_count": 34,
   "id": "0e4fcd2a",
   "metadata": {},
   "outputs": [
    {
     "data": {
      "text/plain": [
       "'0.980'"
      ]
     },
     "execution_count": 34,
     "metadata": {},
     "output_type": "execute_result"
    }
   ],
   "source": [
    "import numpy as np\n",
    "\n",
    "# Define the weights for the neural network\n",
    "weights = np.array([0.1, 0.2, 0])\n",
    "\n",
    "# Define the neural network function\n",
    "def neural_network(input, weights):\n",
    "    pred = input.dot(weights)\n",
    "    return pred\n",
    "\n",
    "# Input data for the neural network\n",
    "toes = np.array([8.5, 9.5, 9.9, 9.0])\n",
    "wlrec = np.array([0.65, 0.8, 0.8, 0.9])\n",
    "nfans = np.array([1.2, 1.3, 0.5, 1.0])\n",
    "input = np.array([toes[0], wlrec[0], nfans[0]])\n",
    "\n",
    "# Calculate the prediction\n",
    "pred = neural_network(input, weights)\n",
    "\n",
    "# Print the prediction\n",
    "# print(pred)\n",
    "\"{:.3f}\".format(pred)"
   ]
  },
  {
   "cell_type": "markdown",
   "id": "d8a903fd",
   "metadata": {},
   "source": [
    "## Making a prediction with multiple outputs"
   ]
  },
  {
   "cell_type": "code",
   "execution_count": 35,
   "id": "e6ca2a57",
   "metadata": {},
   "outputs": [
    {
     "name": "stdout",
     "output_type": "stream",
     "text": [
      "['0.195', '0.130', '0.585']\n"
     ]
    }
   ],
   "source": [
    "def ele_mul(number, vector):\n",
    "    output = [0, 0, 0]\n",
    "    assert len(output) == len(vector)\n",
    "    for i in range(len(vector)):\n",
    "        output[i] = number * vector[i]\n",
    "    return output\n",
    "\n",
    "def neural_network(input, weights):\n",
    "    pred = ele_mul(input, weights)\n",
    "    return pred\n",
    "\n",
    "weights = [0.3, 0.2, 0.9]\n",
    "wlrec = [0.65, 0.8, 0.8, 0.9]\n",
    "input = wlrec[0]\n",
    "pred = neural_network(input, weights)\n",
    "# print(pred)\n",
    "\n",
    "formatted_pred = [\"{:.3f}\".format(x) for x in pred]\n",
    "print(formatted_pred)"
   ]
  },
  {
   "cell_type": "markdown",
   "id": "394c1d1e",
   "metadata": {},
   "source": [
    "## Predicting with multiple inputs and outputs"
   ]
  },
  {
   "cell_type": "code",
   "execution_count": 40,
   "id": "a99bcf19",
   "metadata": {},
   "outputs": [
    {
     "name": "stdout",
     "output_type": "stream",
     "text": [
      "['0.555', '0.980', '0.965']\n",
      "\n",
      "\n",
      "Hurt prediction: 0.555\n",
      "Win prediction: 0.980\n",
      "Sad prediction: 0.965\n"
     ]
    }
   ],
   "source": [
    "def w_sum(a, b):\n",
    "    assert len(a) == len(b)\n",
    "    output = 0\n",
    "    for i in range(len(a)):\n",
    "        output += a[i] * b[i]\n",
    "    return output\n",
    "\n",
    "def vect_mat_mul(vect, matrix):\n",
    "    assert len(vect) == len(matrix)\n",
    "    output = [0, 0, 0]\n",
    "    for i in range(len(vect)):\n",
    "        output[i] = w_sum(vect, matrix[i])\n",
    "    return output\n",
    "\n",
    "def neural_network(input, weights):\n",
    "    pred = vect_mat_mul(input, weights)\n",
    "    return pred\n",
    "\n",
    "weights = [\n",
    "    [0.1, 0.1, -0.3],  # hurt?\n",
    "    [0.1, 0.2, 0.0],   # win?\n",
    "    [0.0, 1.3, 0.1]    # sad?\n",
    "]\n",
    "\n",
    "toes = [8.5, 9.5, 9.9, 9.0]\n",
    "wlrec = [0.65, 0.8, 0.8, 0.9]\n",
    "nfans = [1.2, 1.3, 0.5, 1.0]\n",
    "\n",
    "input = [toes[0], wlrec[0], nfans[0]]\n",
    "pred = neural_network(input, weights)\n",
    "\n",
    "# print(pred) \n",
    "formatted_pred = [\"{:.3f}\".format(x) for x in pred]\n",
    "print(formatted_pred)\n",
    "print(\"\\n\")\n",
    "\n",
    "# Print predictions with labels\n",
    "predictions = [\"Hurt\", \"Win\", \"Sad\"]\n",
    "for i in range(len(pred)):\n",
    "    print(f\"{predictions[i]} prediction: {pred[i]:.3f}\")"
   ]
  },
  {
   "cell_type": "markdown",
   "id": "7bd2750d",
   "metadata": {},
   "source": [
    "## Predicting on predictions"
   ]
  },
  {
   "cell_type": "code",
   "execution_count": 42,
   "id": "bb18bc8e",
   "metadata": {},
   "outputs": [
    {
     "name": "stdout",
     "output_type": "stream",
     "text": [
      "['0.214', '0.145', '0.506']\n"
     ]
    }
   ],
   "source": [
    "def w_sum(a, b):\n",
    "    assert len(a) == len(b)\n",
    "    output = 0\n",
    "    for i in range(len(a)):\n",
    "        output += a[i] * b[i]\n",
    "    return output\n",
    "\n",
    "def vect_mat_mul(vect, matrix):\n",
    "    assert len(vect) == len(matrix)\n",
    "    output = [0, 0, 0]\n",
    "    for i in range(len(vect)):\n",
    "        output[i] = w_sum(vect, matrix[i])\n",
    "    return output\n",
    "\n",
    "def neural_network(input, weights):\n",
    "    hid = vect_mat_mul(input, weights[0])\n",
    "    pred = vect_mat_mul(hid, weights[1])\n",
    "    return pred\n",
    "\n",
    "ih_wgt = [\n",
    "    [0.1, 0.2, -0.1],  # hid[0]\n",
    "    [-0.1, 0.1, 0.9],  # hid[1]\n",
    "    [0.1, 0.4, 0.1]    # hid[2]\n",
    "]\n",
    "\n",
    "hp_wgt = [\n",
    "    [0.3, 1.1, -0.3],  # hurt?\n",
    "    [0.1, 0.2, 0.0],   # win?\n",
    "    [0.0, 1.3, 0.1]    # sad?\n",
    "]\n",
    "\n",
    "weights = [ih_wgt, hp_wgt]\n",
    "\n",
    "toes = [8.5, 9.5, 9.9, 9.0]\n",
    "wlrec = [0.65, 0.8, 0.8, 0.9]\n",
    "nfans = [1.2, 1.3, 0.5, 1.0]\n",
    "\n",
    "input = [toes[0], wlrec[0], nfans[0]]\n",
    "\n",
    "# Call the neural network function with the input data and weights\n",
    "pred = neural_network(input, weights)\n",
    "\n",
    "# Print the prediction\n",
    "formatted_pred = [\"{:.3f}\".format(x) for x in pred]\n",
    "print(formatted_pred)\n"
   ]
  },
  {
   "cell_type": "code",
   "execution_count": 51,
   "id": "3cb98746",
   "metadata": {},
   "outputs": [
    {
     "name": "stdout",
     "output_type": "stream",
     "text": [
      "[0.2135 0.145  0.5065]\n"
     ]
    }
   ],
   "source": [
    "import numpy as np\n",
    "\n",
    "# Define the weight matrices\n",
    "ih_wgt = np.array([\n",
    "    [0.1, 0.2, -0.1],\n",
    "    [-0.1, 0.1, 0.9],\n",
    "    [0.1, 0.4, 0.1]\n",
    "])\n",
    "\n",
    "hp_wgt = np.array([\n",
    "    [0.3, 1.1, -0.3],\n",
    "    [0.1, 0.2, 0.0],\n",
    "    [0.0, 1.3, 0.1]\n",
    "])\n",
    "\n",
    "# Transpose the weight matrices to match the data structure\n",
    "ih_wgt = ih_wgt.T\n",
    "hp_wgt = hp_wgt.T\n",
    "\n",
    "# Combine the weight matrices\n",
    "weights = [ih_wgt, hp_wgt]\n",
    "\n",
    "# Define the neural network function\n",
    "def neural_network(input, weights):\n",
    "    hid = input.dot(weights[0])\n",
    "    pred = hid.dot(weights[1])\n",
    "    return pred\n",
    "\n",
    "# Define input data as NumPy arrays\n",
    "toes = np.array([8.5, 9.5, 9.9, 9.0])\n",
    "wlrec = np.array([0.65, 0.8, 0.8, 0.9])\n",
    "nfans = np.array([1.2, 1.3, 0.5, 1.0])\n",
    "\n",
    "input = np.array([toes[0], wlrec[0], nfans[0]])\n",
    "\n",
    "# Call the neural network function with the input data and weights\n",
    "pred = neural_network(input, weights)\n",
    "\n",
    "# Print the prediction\n",
    "print(pred)"
   ]
  },
  {
   "cell_type": "markdown",
   "id": "5a6fd5e5",
   "metadata": {},
   "source": [
    "## Expectation"
   ]
  },
  {
   "cell_type": "code",
   "execution_count": 8,
   "id": "0cabe8fb",
   "metadata": {},
   "outputs": [],
   "source": [
    "from pyknow import *\n"
   ]
  },
  {
   "cell_type": "code",
   "execution_count": 4,
   "id": "fcd44cb9",
   "metadata": {},
   "outputs": [],
   "source": [
    "class DiseaseIdentifier(KnowledgeEngine):\n",
    "    @Rule(AND(\n",
    "        Fact('fever'),\n",
    "        Fact('cough'),\n",
    "        Fact('fatigue')\n",
    "    ))\n",
    "    def identify_influenza(self):\n",
    "        self.declare(Fact(disease='Influenza'))\n",
    "\n",
    "    @Rule(AND(\n",
    "        Fact('fever'),\n",
    "        Fact('sore throat'),\n",
    "        Fact('swollen lymph nodes')\n",
    "    ))\n",
    "    def identify_strep_throat(self):\n",
    "        self.declare(Fact(disease='Strep Throat'))\n",
    "\n",
    "    @Rule(AND(\n",
    "        Fact('headache'),\n",
    "        Fact('fatigue'),\n",
    "        Fact('muscle pain')\n",
    "    ))\n",
    "    def identify_flu(self):\n",
    "        self.declare(Fact(disease='Flu'))\n",
    "\n",
    "    @Rule(AND(\n",
    "        Fact('rash'),\n",
    "        Fact('itching'),\n",
    "        Fact('fever')\n",
    "    ))\n",
    "    def identify_chickenpox(self):\n",
    "        self.declare(Fact(disease='Chickenpox'))\n",
    "\n",
    "    @Rule(Fact(disease=MATCH.d))\n",
    "    def print_result(self, d):\n",
    "        print('You may have {}'.format(d))\n",
    "\n",
    "    def add_symptoms(self, symptoms):\n",
    "        for symptom in symptoms:\n",
    "            self.declare(Fact(symptom))\n",
    "\n"
   ]
  },
  {
   "cell_type": "code",
   "execution_count": 5,
   "id": "8fb10932",
   "metadata": {},
   "outputs": [
    {
     "name": "stdout",
     "output_type": "stream",
     "text": [
      "You may have Influenza\n"
     ]
    }
   ],
   "source": [
    "symptoms_list = ['fever', 'cough', 'fatigue']\n",
    "disease_identifier = DiseaseIdentifier()\n",
    "disease_identifier.reset()\n",
    "disease_identifier.add_symptoms(symptoms_list)\n",
    "disease_identifier.run()\n"
   ]
  },
  {
   "cell_type": "code",
   "execution_count": null,
   "id": "e6acada0",
   "metadata": {},
   "outputs": [],
   "source": []
  }
 ],
 "metadata": {
  "kernelspec": {
   "display_name": "Python 3 (ipykernel)",
   "language": "python",
   "name": "python3"
  },
  "language_info": {
   "codemirror_mode": {
    "name": "ipython",
    "version": 3
   },
   "file_extension": ".py",
   "mimetype": "text/x-python",
   "name": "python",
   "nbconvert_exporter": "python",
   "pygments_lexer": "ipython3",
   "version": "3.9.7"
  }
 },
 "nbformat": 4,
 "nbformat_minor": 5
}
